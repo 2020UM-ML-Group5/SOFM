{
 "cells": [
  {
   "cell_type": "code",
   "execution_count": 57,
   "metadata": {},
   "outputs": [
    {
     "ename": "ModuleNotFoundError",
     "evalue": "No module named 'minisom'",
     "output_type": "error",
     "traceback": [
      "\u001b[0;31m---------------------------------------------------------------------------\u001b[0m",
      "\u001b[0;31mModuleNotFoundError\u001b[0m                       Traceback (most recent call last)",
      "\u001b[0;32m<ipython-input-57-e55a733019bd>\u001b[0m in \u001b[0;36m<module>\u001b[0;34m\u001b[0m\n\u001b[0;32m----> 1\u001b[0;31m \u001b[0;32mfrom\u001b[0m \u001b[0mminisom\u001b[0m \u001b[0;32mimport\u001b[0m \u001b[0mMiniSom\u001b[0m\u001b[0;34m\u001b[0m\u001b[0;34m\u001b[0m\u001b[0m\n\u001b[0m\u001b[1;32m      2\u001b[0m \u001b[0;32mimport\u001b[0m \u001b[0mpandas\u001b[0m \u001b[0;32mas\u001b[0m \u001b[0mpd\u001b[0m\u001b[0;34m\u001b[0m\u001b[0;34m\u001b[0m\u001b[0m\n\u001b[1;32m      3\u001b[0m \u001b[0;32mimport\u001b[0m \u001b[0mnumpy\u001b[0m \u001b[0;32mas\u001b[0m \u001b[0mnp\u001b[0m\u001b[0;34m\u001b[0m\u001b[0;34m\u001b[0m\u001b[0m\n\u001b[1;32m      4\u001b[0m \u001b[0;34m\u001b[0m\u001b[0m\n\u001b[1;32m      5\u001b[0m \u001b[0mdata\u001b[0m \u001b[0;34m=\u001b[0m \u001b[0mpd\u001b[0m\u001b[0;34m.\u001b[0m\u001b[0mread_csv\u001b[0m\u001b[0;34m(\u001b[0m\u001b[0;34m\"./QCM Sensor Alcohol Dataset/QCM3.csv\"\u001b[0m\u001b[0;34m,\u001b[0m \u001b[0msep\u001b[0m \u001b[0;34m=\u001b[0m \u001b[0;34m';'\u001b[0m\u001b[0;34m)\u001b[0m\u001b[0;34m\u001b[0m\u001b[0;34m\u001b[0m\u001b[0m\n",
      "\u001b[0;31mModuleNotFoundError\u001b[0m: No module named 'minisom'"
     ]
    }
   ],
   "source": [
    "from minisom import MiniSom\n",
    "import pandas as pd \n",
    "import numpy as np \n",
    "\n",
    "data = pd.read_csv(\"./QCM Sensor Alcohol Dataset/QCM3.csv\", sep = ';')"
   ]
  },
  {
   "cell_type": "code",
   "execution_count": 24,
   "metadata": {},
   "outputs": [
    {
     "data": {
      "text/plain": [
       "(125, 15)"
      ]
     },
     "execution_count": 24,
     "metadata": {},
     "output_type": "execute_result"
    }
   ],
   "source": [
    "data.shape"
   ]
  },
  {
   "cell_type": "code",
   "execution_count": 25,
   "metadata": {},
   "outputs": [
    {
     "data": {
      "text/plain": [
       "0.799_0.201      float64\n",
       "0.799_0.201.1    float64\n",
       "0.700_0.300      float64\n",
       "0.700_0.300.1    float64\n",
       "0.600_0.400      float64\n",
       "0.600_0.400.1    float64\n",
       "0.501_0.499      float64\n",
       "0.501_0.499.1    float64\n",
       "0.400_0.600      float64\n",
       "0.400_0.600.1    float64\n",
       "1-Octanol          int64\n",
       "1-Propanol         int64\n",
       "2-Butanol          int64\n",
       "2-propanol         int64\n",
       "1-isobutanol       int64\n",
       "dtype: object"
      ]
     },
     "execution_count": 25,
     "metadata": {},
     "output_type": "execute_result"
    }
   ],
   "source": [
    "data.dtypes"
   ]
  },
  {
   "cell_type": "code",
   "execution_count": 26,
   "metadata": {},
   "outputs": [
    {
     "data": {
      "text/html": [
       "<div>\n",
       "<style scoped>\n",
       "    .dataframe tbody tr th:only-of-type {\n",
       "        vertical-align: middle;\n",
       "    }\n",
       "\n",
       "    .dataframe tbody tr th {\n",
       "        vertical-align: top;\n",
       "    }\n",
       "\n",
       "    .dataframe thead th {\n",
       "        text-align: right;\n",
       "    }\n",
       "</style>\n",
       "<table border=\"1\" class=\"dataframe\">\n",
       "  <thead>\n",
       "    <tr style=\"text-align: right;\">\n",
       "      <th></th>\n",
       "      <th>0.799_0.201</th>\n",
       "      <th>0.799_0.201.1</th>\n",
       "      <th>0.700_0.300</th>\n",
       "      <th>0.700_0.300.1</th>\n",
       "      <th>0.600_0.400</th>\n",
       "      <th>0.600_0.400.1</th>\n",
       "      <th>0.501_0.499</th>\n",
       "      <th>0.501_0.499.1</th>\n",
       "      <th>0.400_0.600</th>\n",
       "      <th>0.400_0.600.1</th>\n",
       "      <th>1-Octanol</th>\n",
       "      <th>1-Propanol</th>\n",
       "      <th>2-Butanol</th>\n",
       "      <th>2-propanol</th>\n",
       "      <th>1-isobutanol</th>\n",
       "    </tr>\n",
       "  </thead>\n",
       "  <tbody>\n",
       "    <tr>\n",
       "      <th>0</th>\n",
       "      <td>-10.06</td>\n",
       "      <td>-10.62</td>\n",
       "      <td>-14.43</td>\n",
       "      <td>-18.31</td>\n",
       "      <td>-24.64</td>\n",
       "      <td>-30.56</td>\n",
       "      <td>-38.62</td>\n",
       "      <td>-45.59</td>\n",
       "      <td>-54.89</td>\n",
       "      <td>-62.28</td>\n",
       "      <td>1</td>\n",
       "      <td>0</td>\n",
       "      <td>0</td>\n",
       "      <td>0</td>\n",
       "      <td>0</td>\n",
       "    </tr>\n",
       "    <tr>\n",
       "      <th>1</th>\n",
       "      <td>-9.69</td>\n",
       "      <td>-10.86</td>\n",
       "      <td>-16.73</td>\n",
       "      <td>-21.75</td>\n",
       "      <td>-28.47</td>\n",
       "      <td>-35.83</td>\n",
       "      <td>-43.65</td>\n",
       "      <td>-52.43</td>\n",
       "      <td>-61.92</td>\n",
       "      <td>-71.27</td>\n",
       "      <td>1</td>\n",
       "      <td>0</td>\n",
       "      <td>0</td>\n",
       "      <td>0</td>\n",
       "      <td>0</td>\n",
       "    </tr>\n",
       "    <tr>\n",
       "      <th>2</th>\n",
       "      <td>-12.07</td>\n",
       "      <td>-14.28</td>\n",
       "      <td>-21.54</td>\n",
       "      <td>-27.92</td>\n",
       "      <td>-35.19</td>\n",
       "      <td>-43.94</td>\n",
       "      <td>-52.04</td>\n",
       "      <td>-62.49</td>\n",
       "      <td>-71.97</td>\n",
       "      <td>-83.10</td>\n",
       "      <td>1</td>\n",
       "      <td>0</td>\n",
       "      <td>0</td>\n",
       "      <td>0</td>\n",
       "      <td>0</td>\n",
       "    </tr>\n",
       "    <tr>\n",
       "      <th>3</th>\n",
       "      <td>-14.21</td>\n",
       "      <td>-17.41</td>\n",
       "      <td>-25.91</td>\n",
       "      <td>-33.36</td>\n",
       "      <td>-41.29</td>\n",
       "      <td>-51.27</td>\n",
       "      <td>-59.94</td>\n",
       "      <td>-71.55</td>\n",
       "      <td>-81.51</td>\n",
       "      <td>-93.83</td>\n",
       "      <td>1</td>\n",
       "      <td>0</td>\n",
       "      <td>0</td>\n",
       "      <td>0</td>\n",
       "      <td>0</td>\n",
       "    </tr>\n",
       "    <tr>\n",
       "      <th>4</th>\n",
       "      <td>-16.57</td>\n",
       "      <td>-20.35</td>\n",
       "      <td>-29.97</td>\n",
       "      <td>-37.84</td>\n",
       "      <td>-47.03</td>\n",
       "      <td>-57.29</td>\n",
       "      <td>-67.13</td>\n",
       "      <td>-78.96</td>\n",
       "      <td>-90.01</td>\n",
       "      <td>-102.65</td>\n",
       "      <td>1</td>\n",
       "      <td>0</td>\n",
       "      <td>0</td>\n",
       "      <td>0</td>\n",
       "      <td>0</td>\n",
       "    </tr>\n",
       "  </tbody>\n",
       "</table>\n",
       "</div>"
      ],
      "text/plain": [
       "   0.799_0.201  0.799_0.201.1  0.700_0.300  0.700_0.300.1  0.600_0.400  \\\n",
       "0       -10.06         -10.62       -14.43         -18.31       -24.64   \n",
       "1        -9.69         -10.86       -16.73         -21.75       -28.47   \n",
       "2       -12.07         -14.28       -21.54         -27.92       -35.19   \n",
       "3       -14.21         -17.41       -25.91         -33.36       -41.29   \n",
       "4       -16.57         -20.35       -29.97         -37.84       -47.03   \n",
       "\n",
       "   0.600_0.400.1  0.501_0.499  0.501_0.499.1  0.400_0.600  0.400_0.600.1  \\\n",
       "0         -30.56       -38.62         -45.59       -54.89         -62.28   \n",
       "1         -35.83       -43.65         -52.43       -61.92         -71.27   \n",
       "2         -43.94       -52.04         -62.49       -71.97         -83.10   \n",
       "3         -51.27       -59.94         -71.55       -81.51         -93.83   \n",
       "4         -57.29       -67.13         -78.96       -90.01        -102.65   \n",
       "\n",
       "   1-Octanol  1-Propanol  2-Butanol  2-propanol  1-isobutanol  \n",
       "0          1           0          0           0             0  \n",
       "1          1           0          0           0             0  \n",
       "2          1           0          0           0             0  \n",
       "3          1           0          0           0             0  \n",
       "4          1           0          0           0             0  "
      ]
     },
     "execution_count": 26,
     "metadata": {},
     "output_type": "execute_result"
    }
   ],
   "source": [
    "data.head()"
   ]
  },
  {
   "cell_type": "code",
   "execution_count": 55,
   "metadata": {},
   "outputs": [
    {
     "data": {
      "text/html": [
       "<div>\n",
       "<style scoped>\n",
       "    .dataframe tbody tr th:only-of-type {\n",
       "        vertical-align: middle;\n",
       "    }\n",
       "\n",
       "    .dataframe tbody tr th {\n",
       "        vertical-align: top;\n",
       "    }\n",
       "\n",
       "    .dataframe thead th {\n",
       "        text-align: right;\n",
       "    }\n",
       "</style>\n",
       "<table border=\"1\" class=\"dataframe\">\n",
       "  <thead>\n",
       "    <tr style=\"text-align: right;\">\n",
       "      <th></th>\n",
       "      <th>0.799_0.201</th>\n",
       "      <th>0.799_0.201.1</th>\n",
       "      <th>0.700_0.300</th>\n",
       "      <th>0.700_0.300.1</th>\n",
       "      <th>0.600_0.400</th>\n",
       "      <th>0.600_0.400.1</th>\n",
       "      <th>0.501_0.499</th>\n",
       "      <th>0.501_0.499.1</th>\n",
       "      <th>0.400_0.600</th>\n",
       "      <th>0.400_0.600.1</th>\n",
       "    </tr>\n",
       "  </thead>\n",
       "  <tbody>\n",
       "    <tr>\n",
       "      <th>0</th>\n",
       "      <td>-10.06</td>\n",
       "      <td>-10.62</td>\n",
       "      <td>-14.43</td>\n",
       "      <td>-18.31</td>\n",
       "      <td>-24.64</td>\n",
       "      <td>-30.56</td>\n",
       "      <td>-38.62</td>\n",
       "      <td>-45.59</td>\n",
       "      <td>-54.89</td>\n",
       "      <td>-62.28</td>\n",
       "    </tr>\n",
       "    <tr>\n",
       "      <th>1</th>\n",
       "      <td>-9.69</td>\n",
       "      <td>-10.86</td>\n",
       "      <td>-16.73</td>\n",
       "      <td>-21.75</td>\n",
       "      <td>-28.47</td>\n",
       "      <td>-35.83</td>\n",
       "      <td>-43.65</td>\n",
       "      <td>-52.43</td>\n",
       "      <td>-61.92</td>\n",
       "      <td>-71.27</td>\n",
       "    </tr>\n",
       "    <tr>\n",
       "      <th>2</th>\n",
       "      <td>-12.07</td>\n",
       "      <td>-14.28</td>\n",
       "      <td>-21.54</td>\n",
       "      <td>-27.92</td>\n",
       "      <td>-35.19</td>\n",
       "      <td>-43.94</td>\n",
       "      <td>-52.04</td>\n",
       "      <td>-62.49</td>\n",
       "      <td>-71.97</td>\n",
       "      <td>-83.10</td>\n",
       "    </tr>\n",
       "    <tr>\n",
       "      <th>3</th>\n",
       "      <td>-14.21</td>\n",
       "      <td>-17.41</td>\n",
       "      <td>-25.91</td>\n",
       "      <td>-33.36</td>\n",
       "      <td>-41.29</td>\n",
       "      <td>-51.27</td>\n",
       "      <td>-59.94</td>\n",
       "      <td>-71.55</td>\n",
       "      <td>-81.51</td>\n",
       "      <td>-93.83</td>\n",
       "    </tr>\n",
       "    <tr>\n",
       "      <th>4</th>\n",
       "      <td>-16.57</td>\n",
       "      <td>-20.35</td>\n",
       "      <td>-29.97</td>\n",
       "      <td>-37.84</td>\n",
       "      <td>-47.03</td>\n",
       "      <td>-57.29</td>\n",
       "      <td>-67.13</td>\n",
       "      <td>-78.96</td>\n",
       "      <td>-90.01</td>\n",
       "      <td>-102.65</td>\n",
       "    </tr>\n",
       "  </tbody>\n",
       "</table>\n",
       "</div>"
      ],
      "text/plain": [
       "   0.799_0.201  0.799_0.201.1  0.700_0.300  0.700_0.300.1  0.600_0.400  \\\n",
       "0       -10.06         -10.62       -14.43         -18.31       -24.64   \n",
       "1        -9.69         -10.86       -16.73         -21.75       -28.47   \n",
       "2       -12.07         -14.28       -21.54         -27.92       -35.19   \n",
       "3       -14.21         -17.41       -25.91         -33.36       -41.29   \n",
       "4       -16.57         -20.35       -29.97         -37.84       -47.03   \n",
       "\n",
       "   0.600_0.400.1  0.501_0.499  0.501_0.499.1  0.400_0.600  0.400_0.600.1  \n",
       "0         -30.56       -38.62         -45.59       -54.89         -62.28  \n",
       "1         -35.83       -43.65         -52.43       -61.92         -71.27  \n",
       "2         -43.94       -52.04         -62.49       -71.97         -83.10  \n",
       "3         -51.27       -59.94         -71.55       -81.51         -93.83  \n",
       "4         -57.29       -67.13         -78.96       -90.01        -102.65  "
      ]
     },
     "execution_count": 55,
     "metadata": {},
     "output_type": "execute_result"
    }
   ],
   "source": [
    "attributes = data.drop(['1-Octanol', '1-Propanol', '2-Butanol', '2-propanol', '1-isobutanol'],axis = 1)\n",
    "attributes.head()"
   ]
  },
  {
   "cell_type": "code",
   "execution_count": 53,
   "metadata": {},
   "outputs": [],
   "source": [
    "classes = data.drop(['0.799_0.201','0.799_0.201.1','0.700_0.300', '0.700_0.300.1', '0.600_0.400', '0.600_0.400.1', '0.501_0.499', '0.501_0.499.1', '0.400_0.600', '0.400_0.600.1'], axis=1)\n",
    "classes1 = classes.idxmax(axis=1)"
   ]
  },
  {
   "cell_type": "code",
   "execution_count": 54,
   "metadata": {},
   "outputs": [
    {
     "name": "stdout",
     "output_type": "stream",
     "text": [
      "[[ 0.36730989  0.3546996   0.36439155 ...  0.25584465  0.2825796\n",
      "   0.22461791]\n",
      " [ 0.38374365  0.36656628  0.36655418 ...  0.24584153  0.27906709\n",
      "   0.21369528]\n",
      " [ 0.39498754  0.36727168  0.3713515  ...  0.2365016   0.28152843\n",
      "   0.20569565]\n",
      " ...\n",
      " [-0.08054752 -0.14819724 -0.12222667 ... -0.47641469 -0.33269295\n",
      "  -0.56272259]\n",
      " [-0.08858756 -0.15263592 -0.13547171 ... -0.47290614 -0.33440241\n",
      "  -0.5526872 ]\n",
      " [-0.09751087 -0.15426808 -0.13869528 ... -0.47308803 -0.33917539\n",
      "  -0.54987674]]\n"
     ]
    }
   ],
   "source": [
    "from sklearn import preprocessing\n",
    "attributes = preprocessing.scale(attributes)\n",
    "\n",
    "for i in range(125):\n",
    "    length = sum(map(lambda x: float(x**2), attributes[i]))**0.5\n",
    "    for j in range(len(attributes[i])):\n",
    "        attributes[i][j] = attributes[i][j]/length\n",
    "print(attributes)"
   ]
  },
  {
   "cell_type": "code",
   "execution_count": 46,
   "metadata": {},
   "outputs": [
    {
     "data": {
      "text/plain": [
       "0    0\n",
       "1    0\n",
       "2    0\n",
       "3    0\n",
       "4    0\n",
       "dtype: object"
      ]
     },
     "execution_count": 46,
     "metadata": {},
     "output_type": "execute_result"
    }
   ],
   "source": [
    "for i in range(len(classes1)):\n",
    "    if(classes1[i] == \"1-Octanol\"):\n",
    "        classes1[i] = 0\n",
    "    elif classes1[i] == \"1-Propanol\":\n",
    "        classes1[i] = 1\n",
    "    elif classes1[i] == \"2-Butanol\":\n",
    "        classes1[i] = 2\n",
    "    elif classes1[i] == \"2=Propanol\":\n",
    "        classes1[i] = 3\n",
    "    elif classes1[i] == \"1-isobutanol\":\n",
    "        classes1[i] = 4"
   ]
  },
  {
   "cell_type": "code",
   "execution_count": 56,
   "metadata": {},
   "outputs": [
    {
     "ename": "NameError",
     "evalue": "name 'MiniSom' is not defined",
     "output_type": "error",
     "traceback": [
      "\u001b[0;31m---------------------------------------------------------------------------\u001b[0m",
      "\u001b[0;31mNameError\u001b[0m                                 Traceback (most recent call last)",
      "\u001b[0;32m<ipython-input-56-a06c5e3cbe98>\u001b[0m in \u001b[0;36m<module>\u001b[0;34m\u001b[0m\n\u001b[1;32m      1\u001b[0m \u001b[0;31m#16, 16 is the width and height of neurons.\u001b[0m\u001b[0;34m\u001b[0m\u001b[0;34m\u001b[0m\u001b[0;34m\u001b[0m\u001b[0m\n\u001b[1;32m      2\u001b[0m \u001b[0;31m# sigma might be D\u001b[0m\u001b[0;34m\u001b[0m\u001b[0;34m\u001b[0m\u001b[0;34m\u001b[0m\u001b[0m\n\u001b[0;32m----> 3\u001b[0;31m \u001b[0msom\u001b[0m \u001b[0;34m=\u001b[0m \u001b[0mMiniSom\u001b[0m\u001b[0;34m(\u001b[0m\u001b[0;36m16\u001b[0m\u001b[0;34m,\u001b[0m\u001b[0;36m16\u001b[0m\u001b[0;34m,\u001b[0m\u001b[0;36m12\u001b[0m\u001b[0;34m,\u001b[0m\u001b[0msigma\u001b[0m\u001b[0;34m=\u001b[0m\u001b[0;36m1.5\u001b[0m\u001b[0;34m,\u001b[0m\u001b[0mlearning_rate\u001b[0m\u001b[0;34m=\u001b[0m\u001b[0;36m0.5\u001b[0m\u001b[0;34m)\u001b[0m\u001b[0;34m\u001b[0m\u001b[0;34m\u001b[0m\u001b[0m\n\u001b[0m\u001b[1;32m      4\u001b[0m \u001b[0msom\u001b[0m\u001b[0;34m.\u001b[0m\u001b[0mpca_weights_init\u001b[0m\u001b[0;34m(\u001b[0m\u001b[0mAttributes\u001b[0m\u001b[0;34m)\u001b[0m\u001b[0;34m\u001b[0m\u001b[0;34m\u001b[0m\u001b[0m\n\u001b[1;32m      5\u001b[0m \u001b[0msom\u001b[0m\u001b[0;34m.\u001b[0m\u001b[0mtrain\u001b[0m\u001b[0;34m(\u001b[0m\u001b[0mAttributes\u001b[0m\u001b[0;34m,\u001b[0m\u001b[0;36m1000\u001b[0m\u001b[0;34m,\u001b[0m\u001b[0mverbose\u001b[0m\u001b[0;34m=\u001b[0m\u001b[0;32mTrue\u001b[0m\u001b[0;34m)\u001b[0m\u001b[0;34m\u001b[0m\u001b[0;34m\u001b[0m\u001b[0m\n",
      "\u001b[0;31mNameError\u001b[0m: name 'MiniSom' is not defined"
     ]
    }
   ],
   "source": [
    "#16, 16 is the width and height of neurons. \n",
    "# sigma might be D \n",
    "som = MiniSom(16,16,12,sigma=1.5,learning_rate=0.5)\n",
    "som.pca_weights_init(Attributes)\n",
    "som.train(Attributes,1000,verbose=True)"
   ]
  },
  {
   "cell_type": "code",
   "execution_count": null,
   "metadata": {},
   "outputs": [],
   "source": []
  }
 ],
 "metadata": {
  "kernelspec": {
   "display_name": "Python 3",
   "language": "python",
   "name": "python3"
  },
  "language_info": {
   "codemirror_mode": {
    "name": "ipython",
    "version": 3
   },
   "file_extension": ".py",
   "mimetype": "text/x-python",
   "name": "python",
   "nbconvert_exporter": "python",
   "pygments_lexer": "ipython3",
   "version": "3.7.3"
  }
 },
 "nbformat": 4,
 "nbformat_minor": 4
}
